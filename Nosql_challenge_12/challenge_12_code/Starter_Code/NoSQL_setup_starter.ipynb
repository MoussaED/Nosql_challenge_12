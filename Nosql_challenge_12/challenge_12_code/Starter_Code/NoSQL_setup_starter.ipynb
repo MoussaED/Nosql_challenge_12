{
 "cells": [
  {
   "cell_type": "markdown",
   "id": "9a57c4c6",
   "metadata": {},
   "source": [
    "# Eat Safe, Love"
   ]
  },
  {
   "cell_type": "markdown",
   "id": "064ef857",
   "metadata": {},
   "source": [
    "## Part 1: Database and Jupyter Notebook Set Up"
   ]
  },
  {
   "cell_type": "markdown",
   "id": "664e3c1f",
   "metadata": {},
   "source": [
    "Import the data provided in the `establishments.json` file from your Terminal. Name the database `uk_food` and the collection `establishments`.\n",
    "\n",
    "Within this markdown cell, copy the line of text you used to import the data from your Terminal. This way, future analysts will be able to repeat your process.\n",
    "\n",
    "e.g.: Import the dataset with `mongoimport --db uk_food --collection establishments --file`"
   ]
  },
  {
   "cell_type": "code",
   "execution_count": 13,
   "id": "3ecdd008",
   "metadata": {},
   "outputs": [],
   "source": [
    "# Import dependencies\n",
    "from pymongo import MongoClient\n",
    "from pprint import pprint\n"
   ]
  },
  {
   "cell_type": "code",
   "execution_count": 14,
   "id": "59390c4a",
   "metadata": {},
   "outputs": [],
   "source": [
    "# Create an instance of MongoClient\n",
    "mongo = MongoClient(port=27017)"
   ]
  },
  {
   "cell_type": "code",
   "execution_count": 15,
   "id": "7f9ececa",
   "metadata": {},
   "outputs": [
    {
     "name": "stdout",
     "output_type": "stream",
     "text": [
      "['admin', 'classroom', 'config', 'epa', 'local', 'met', 'test', 'uk_food']\n"
     ]
    }
   ],
   "source": [
    "# confirm that our new database was created\n",
    "print(mongo.list_database_names())"
   ]
  },
  {
   "cell_type": "code",
   "execution_count": 16,
   "id": "71e373c1",
   "metadata": {},
   "outputs": [],
   "source": [
    "# assign the uk_food database to a variable name\n",
    "db = mongo['uk_food']"
   ]
  },
  {
   "cell_type": "code",
   "execution_count": 17,
   "id": "ef1b89ed",
   "metadata": {},
   "outputs": [
    {
     "name": "stdout",
     "output_type": "stream",
     "text": [
      "['establishments']\n"
     ]
    }
   ],
   "source": [
    "# review the collections in our new database\n",
    "print(db.list_collection_names())"
   ]
  },
  {
   "cell_type": "code",
   "execution_count": 18,
   "id": "6a0d92df",
   "metadata": {},
   "outputs": [
    {
     "name": "stdout",
     "output_type": "stream",
     "text": [
      "None\n"
     ]
    }
   ],
   "source": [
    "# review a document in the establishments collection\n",
    "pprint(db.establishements.find_one())"
   ]
  },
  {
   "cell_type": "code",
   "execution_count": 19,
   "id": "11c9f11b",
   "metadata": {},
   "outputs": [
    {
     "name": "stdout",
     "output_type": "stream",
     "text": [
      "{'_id': ObjectId('64f7aa449a469dd57963437f'), 'establishments': 'Penang Flavors'}\n"
     ]
    }
   ],
   "source": [
    "# assign the collection to a variable\n",
    "establishments = db['establishments']\n",
    "print(establishments.find_one())"
   ]
  },
  {
   "cell_type": "markdown",
   "id": "d5671434",
   "metadata": {},
   "source": [
    "## Part 2: Update the Database"
   ]
  },
  {
   "cell_type": "markdown",
   "id": "314bd884",
   "metadata": {},
   "source": [
    "1. An exciting new halal restaurant just opened in Greenwich, but hasn't been rated yet. The magazine has asked you to include it in your analysis. Add the following restaurant \"Penang Flavours\" to the database."
   ]
  },
  {
   "cell_type": "code",
   "execution_count": 20,
   "id": "c2da7648",
   "metadata": {},
   "outputs": [],
   "source": [
    "# Create a dictionary for the new restaurant data\n",
    "rest_data_dic = {}"
   ]
  },
  {
   "cell_type": "code",
   "execution_count": 21,
   "id": "a6e5cece",
   "metadata": {},
   "outputs": [],
   "source": [
    "# Insert the new restaurant into the collection\n",
    "penang_new = establishments.insert_one({'establishments' : 'Penang Flavors'})"
   ]
  },
  {
   "cell_type": "code",
   "execution_count": 22,
   "id": "63bb10f9",
   "metadata": {},
   "outputs": [
    {
     "name": "stdout",
     "output_type": "stream",
     "text": [
      "<pymongo.results.InsertOneResult object at 0x000002730422C240>\n"
     ]
    }
   ],
   "source": [
    "# Check that the new restaurant was inserted\n",
    "print(penang_new)"
   ]
  },
  {
   "cell_type": "markdown",
   "id": "0ef4395a",
   "metadata": {},
   "source": [
    "2. Find the BusinessTypeID for \"Restaurant/Cafe/Canteen\" and return only the `BusinessTypeID` and `BusinessType` fields."
   ]
  },
  {
   "cell_type": "code",
   "execution_count": 23,
   "id": "93c63829",
   "metadata": {},
   "outputs": [
    {
     "name": "stdout",
     "output_type": "stream",
     "text": [
      "None\n"
     ]
    }
   ],
   "source": [
    "# Find the BusinessTypeID for \"Restaurant/Cafe/Canteen\" and return only the BusinessTypeID and BusinessType fields\n",
    "\n",
    "result = establishments.find_one(\n",
    "    {\"BusinessTypeName\": \"Restaurant/Cafe/Canteen\"},\n",
    "    {\"BusinessTypeID\": 1, \"BusinessTypeName\": 1, \"_id\": 0}\n",
    ")\n",
    "\n",
    "print(result)"
   ]
  },
  {
   "cell_type": "markdown",
   "id": "4e570caf",
   "metadata": {},
   "source": [
    "3. Update the new restaurant with the `BusinessTypeID` you found."
   ]
  },
  {
   "cell_type": "code",
   "execution_count": 24,
   "id": "7f599f3d",
   "metadata": {},
   "outputs": [
    {
     "ename": "TypeError",
     "evalue": "'NoneType' object is not subscriptable",
     "output_type": "error",
     "traceback": [
      "\u001b[1;31m---------------------------------------------------------------------------\u001b[0m",
      "\u001b[1;31mTypeError\u001b[0m                                 Traceback (most recent call last)",
      "Cell \u001b[1;32mIn[24], line 4\u001b[0m\n\u001b[0;32m      1\u001b[0m \u001b[39m# Update the new restaurant with the correct BusinessTypeID\u001b[39;00m\n\u001b[0;32m      3\u001b[0m new_business_type \u001b[39m=\u001b[39m {\n\u001b[1;32m----> 4\u001b[0m     \u001b[39m'\u001b[39m\u001b[39mBusinessTypeID\u001b[39m\u001b[39m'\u001b[39m: result[\u001b[39m'\u001b[39;49m\u001b[39mBusinessTypeID\u001b[39;49m\u001b[39m'\u001b[39;49m],\n\u001b[0;32m      5\u001b[0m     \u001b[39m'\u001b[39m\u001b[39mBusinessType\u001b[39m\u001b[39m'\u001b[39m: result[\u001b[39m'\u001b[39m\u001b[39mBusinessTypeName\u001b[39m\u001b[39m'\u001b[39m]\n\u001b[0;32m      6\u001b[0m }\n\u001b[0;32m      8\u001b[0m \u001b[39mfilter\u001b[39m \u001b[39m=\u001b[39m {\u001b[39m\"\u001b[39m\u001b[39mBusinessName\u001b[39m\u001b[39m\"\u001b[39m: \u001b[39m\"\u001b[39m\u001b[39mNew Restaurant\u001b[39m\u001b[39m\"\u001b[39m}\n\u001b[0;32m     10\u001b[0m update \u001b[39m=\u001b[39m {\u001b[39m\"\u001b[39m\u001b[39m$set\u001b[39m\u001b[39m\"\u001b[39m: new_business_type}\n",
      "\u001b[1;31mTypeError\u001b[0m: 'NoneType' object is not subscriptable"
     ]
    }
   ],
   "source": [
    "# Update the new restaurant with the correct BusinessTypeID\n",
    "\n",
    "new_business_type = {\n",
    "    'BusinessTypeID': result['BusinessTypeID'],\n",
    "    'BusinessType': result['BusinessTypeName']\n",
    "}\n",
    "\n",
    "filter = {\"BusinessName\": \"New Restaurant\"}\n",
    "\n",
    "update = {\"$set\": new_business_type}\n",
    "\n",
    "# Update the document with the new BusinessTypeID and BusinessType\n",
    "new_update = establishments.update_one(filter, update)\n",
    "\n",
    "print(new_update.modified_count, \"documents updated.\")"
   ]
  },
  {
   "cell_type": "code",
   "execution_count": null,
   "id": "a6ad16f7",
   "metadata": {},
   "outputs": [],
   "source": [
    "# Confirm that the new restaurant was updated\n",
    "print(new_update.modified_count, \"documents updated.\")"
   ]
  },
  {
   "cell_type": "markdown",
   "id": "67281254",
   "metadata": {},
   "source": [
    "4. The magazine is not interested in any establishments in Dover, so check how many documents contain the Dover Local Authority. Then, remove any establishments within the Dover Local Authority from the database, and check the number of documents to ensure they were deleted."
   ]
  },
  {
   "cell_type": "code",
   "execution_count": null,
   "id": "768474a6",
   "metadata": {},
   "outputs": [],
   "source": [
    "# Find how many documents have LocalAuthorityName as \"Dover\"\n",
    "dover = establishments.count_documents({\"LocalAuthorityName\": \"Dover\"})\n",
    "print(dover)"
   ]
  },
  {
   "cell_type": "code",
   "execution_count": null,
   "id": "a11d5f1b",
   "metadata": {},
   "outputs": [],
   "source": [
    "# Delete all documents where LocalAuthorityName is \"Dover\"\n",
    "delete_dover = establishments.delete_many({\"LocalAuthorityName\": \"Dover\"})"
   ]
  },
  {
   "cell_type": "code",
   "execution_count": null,
   "id": "2a51aba0",
   "metadata": {},
   "outputs": [],
   "source": [
    "# Check if any remaining documents include Dover\n",
    "dover_check= establishments.find_one({\"LocalAuthorityName\": \"Dover\"})\n",
    "print(dover_check)"
   ]
  },
  {
   "cell_type": "code",
   "execution_count": null,
   "id": "8c356f7b",
   "metadata": {},
   "outputs": [],
   "source": [
    "# Check that other documents remain with 'find_one'\n",
    "if result is not None:\n",
    "    remaining_docs = establishments.find({\"LocalAuthorityName\": \"Dover\"})\n",
    "    for doc in remaining_docs:\n",
    "        print(doc)\n",
    "else:\n",
    "    print(\"No documents found.\")"
   ]
  },
  {
   "attachments": {},
   "cell_type": "markdown",
   "id": "e9f1662d",
   "metadata": {},
   "source": [
    "5. Some of the number values are stored as strings, when they should be stored as numbers."
   ]
  },
  {
   "attachments": {},
   "cell_type": "markdown",
   "id": "c46df2df",
   "metadata": {},
   "source": [
    "Use `update_many` to convert `latitude` and `longitude` to decimal numbers."
   ]
  },
  {
   "cell_type": "code",
   "execution_count": null,
   "id": "fd4112ce",
   "metadata": {},
   "outputs": [],
   "source": [
    "# Change the data type from String to Decimal for longitude and latitude\n",
    "data_change = {\n",
    "    \"$set\": {\n",
    "        \"latitude\": { \"$toDouble\": \"$latitude\" },\n",
    "        \"longitude\": { \"$toDouble\": \"$longitude\" }\n",
    "    }\n",
    "}"
   ]
  },
  {
   "attachments": {},
   "cell_type": "markdown",
   "id": "142e319c",
   "metadata": {},
   "source": [
    "Use `update_many` to convert `RatingValue` to integer numbers."
   ]
  },
  {
   "cell_type": "code",
   "execution_count": null,
   "id": "04430a5b",
   "metadata": {},
   "outputs": [],
   "source": [
    "# Set non 1-5 Rating Values to Null\n",
    "non_ratings = [\"AwaitingInspection\", \"Awaiting Inspection\", \"AwaitingPublication\", \"Pass\", \"Exempt\"]\n",
    "establishments.update_many({\"RatingValue\": {\"$in\": non_ratings}}, [ {'$set':{ \"RatingValue\" : None}} ])"
   ]
  },
  {
   "cell_type": "code",
   "execution_count": null,
   "id": "92524ccc",
   "metadata": {},
   "outputs": [],
   "source": [
    "# Change the data type from String to Integer for RatingValue\n",
    "non_ratings = [\"AwaitingInspection\", \"Awaiting Inspection\", \"AwaitingPublication\", \"Pass\", \"Exempt\"]\n",
    "establishments.update_many({\"RatingValue\": {\"$in\": non_ratings}}, [ {'$set':{ \"RatingValue\" : None}} ])\n",
    "establishments.update_many({\"RatingValue\": {\"$type\": 2}}, [ {'$set':{ \"RatingValue\" : { \"$toInt\": \"$RatingValue\" } }} ])"
   ]
  },
  {
   "cell_type": "code",
   "execution_count": null,
   "id": "0deacaf9",
   "metadata": {},
   "outputs": [],
   "source": [
    "# Check that the coordinates and rating value are now numbers\n",
    "result = establishments.find_one({\"BusinessName\": \"New Restaurant\"})\n",
    "\n",
    "print(\"Longitude (type): \", type(result[\"geocode\"][\"longitude\"]))\n",
    "print(\"Latitude (type): \", type(result[\"geocode\"][\"latitude\"]))\n",
    "print(\"RatingValue (type): \", type(result[\"RatingValue\"]))"
   ]
  }
 ],
 "metadata": {
  "kernelspec": {
   "display_name": "Python 3 (ipykernel)",
   "language": "python",
   "name": "python3"
  },
  "language_info": {
   "codemirror_mode": {
    "name": "ipython",
    "version": 3
   },
   "file_extension": ".py",
   "mimetype": "text/x-python",
   "name": "python",
   "nbconvert_exporter": "python",
   "pygments_lexer": "ipython3",
   "version": "3.10.11"
  }
 },
 "nbformat": 4,
 "nbformat_minor": 5
}
